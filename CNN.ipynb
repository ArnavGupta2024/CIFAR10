{
 "cells": [
  {
   "cell_type": "code",
   "execution_count": 1,
   "metadata": {
    "id": "x4f_lwUS2teN"
   },
   "outputs": [],
   "source": [
    "import tensorflow as tf\n",
    "import numpy as np\n",
    "import matplotlib.pyplot as plt\n",
    "import pandas as pd\n",
    "from sklearn import metrics"
   ]
  },
  {
   "cell_type": "markdown",
   "metadata": {
    "id": "x6MpreIzKqrL"
   },
   "source": [
    "CNN on CIFAR-10"
   ]
  },
  {
   "cell_type": "code",
   "execution_count": 32,
   "metadata": {
    "id": "jnHBBo9fI2G5"
   },
   "outputs": [],
   "source": [
    "cifar10 = tf.keras.datasets.cifar10\n",
    "(x_train,y_train),(x_test,y_test) = cifar10.load_data()"
   ]
  },
  {
   "cell_type": "code",
   "execution_count": 34,
   "metadata": {
    "colab": {
     "base_uri": "https://localhost:8080/"
    },
    "id": "ADMKLTkFKvXa",
    "outputId": "b17bed0c-413f-4488-ce00-73d096338a5e"
   },
   "outputs": [
    {
     "name": "stdout",
     "output_type": "stream",
     "text": [
      "Model: \"sequential_7\"\n",
      "_________________________________________________________________\n",
      " Layer (type)                Output Shape              Param #   \n",
      "=================================================================\n",
      " conv2d_5 (Conv2D)           (None, 30, 30, 32)        896       \n",
      "                                                                 \n",
      " max_pooling2d_4 (MaxPooling  (None, 15, 15, 32)       0         \n",
      " 2D)                                                             \n",
      "                                                                 \n",
      " Input (Flatten)             (None, 7200)              0         \n",
      "                                                                 \n",
      " HiddenLayer1 (Dense)        (None, 100)               720100    \n",
      "                                                                 \n",
      " Output (Dense)              (None, 10)                1010      \n",
      "                                                                 \n",
      "=================================================================\n",
      "Total params: 722,006\n",
      "Trainable params: 722,006\n",
      "Non-trainable params: 0\n",
      "_________________________________________________________________\n",
      "Epoch 1/15\n",
      "1600/1600 [==============================] - 6s 4ms/step - loss: 4.9206 - accuracy: 0.3192 - val_loss: 1.8594 - val_accuracy: 0.3802\n",
      "Epoch 2/15\n",
      "1600/1600 [==============================] - 5s 3ms/step - loss: 1.5777 - accuracy: 0.4492 - val_loss: 1.6238 - val_accuracy: 0.4414\n",
      "Epoch 3/15\n",
      "1600/1600 [==============================] - 5s 3ms/step - loss: 1.4404 - accuracy: 0.4948 - val_loss: 1.5476 - val_accuracy: 0.4658\n",
      "Epoch 4/15\n",
      "1600/1600 [==============================] - 5s 3ms/step - loss: 1.3263 - accuracy: 0.5339 - val_loss: 1.4825 - val_accuracy: 0.4852\n",
      "Epoch 5/15\n",
      "1600/1600 [==============================] - 5s 3ms/step - loss: 1.2472 - accuracy: 0.5615 - val_loss: 1.4528 - val_accuracy: 0.5170\n",
      "Epoch 6/15\n",
      "1600/1600 [==============================] - 5s 3ms/step - loss: 1.1627 - accuracy: 0.5904 - val_loss: 1.4484 - val_accuracy: 0.5166\n",
      "Epoch 7/15\n",
      "1600/1600 [==============================] - 5s 3ms/step - loss: 1.1118 - accuracy: 0.6108 - val_loss: 1.4772 - val_accuracy: 0.5305\n",
      "Epoch 8/15\n",
      "1600/1600 [==============================] - 5s 3ms/step - loss: 1.0492 - accuracy: 0.6342 - val_loss: 1.4237 - val_accuracy: 0.5360\n",
      "Epoch 9/15\n",
      "1600/1600 [==============================] - 6s 4ms/step - loss: 0.9962 - accuracy: 0.6529 - val_loss: 1.3809 - val_accuracy: 0.5627\n",
      "Epoch 10/15\n",
      "1600/1600 [==============================] - 5s 3ms/step - loss: 0.9491 - accuracy: 0.6685 - val_loss: 1.6272 - val_accuracy: 0.5284\n",
      "Epoch 11/15\n",
      "1600/1600 [==============================] - 5s 3ms/step - loss: 0.9086 - accuracy: 0.6837 - val_loss: 1.5683 - val_accuracy: 0.5496\n",
      "Epoch 12/15\n",
      "1600/1600 [==============================] - 5s 3ms/step - loss: 0.8722 - accuracy: 0.6959 - val_loss: 1.5558 - val_accuracy: 0.5461\n",
      "Epoch 13/15\n",
      "1600/1600 [==============================] - 6s 3ms/step - loss: 0.8324 - accuracy: 0.7108 - val_loss: 1.5870 - val_accuracy: 0.5565\n",
      "Epoch 14/15\n",
      "1600/1600 [==============================] - 5s 3ms/step - loss: 0.8015 - accuracy: 0.7201 - val_loss: 1.6843 - val_accuracy: 0.5405\n",
      "Epoch 15/15\n",
      "1600/1600 [==============================] - 5s 3ms/step - loss: 0.7567 - accuracy: 0.7348 - val_loss: 1.6344 - val_accuracy: 0.5442\n"
     ]
    }
   ],
   "source": [
    "cifar10model = tf.keras.Sequential()\n",
    "cifar10model.add(tf.keras.Input(shape=(32,32,3)))\n",
    "cifar10model.add(tf.keras.layers.Conv2D(32, kernel_size=(3,3), activation=\"relu\", padding=\"valid\"))\n",
    "cifar10model.add(tf.keras.layers.MaxPooling2D(pool_size=(2,2), strides=2))\n",
    "cifar10model.add(tf.keras.layers.Flatten(name=\"Input\"))\n",
    "cifar10model.add(tf.keras.layers.Dense(100,activation=\"relu\", name=\"HiddenLayer1\"))\n",
    "cifar10model.add(tf.keras.layers.Dense(10,activation=\"softmax\", name=\"Output\"))\n",
    "cifar10model.summary()\n",
    "cifar10model.compile(optimizer=\"adam\", loss=\"sparse_categorical_crossentropy\", metrics=[\"accuracy\"])\n",
    "cifar10plot = cifar10model.fit(x_train,y_train,batch_size=25,epochs=15, validation_split=0.2)"
   ]
  },
  {
   "cell_type": "markdown",
   "metadata": {
    "id": "i7DrSjy7hLzB"
   },
   "source": [
    "Training Accuracy = 73.48%"
   ]
  },
  {
   "cell_type": "code",
   "execution_count": 36,
   "metadata": {
    "colab": {
     "base_uri": "https://localhost:8080/",
     "height": 573
    },
    "id": "LnTMgaHAgsnK",
    "outputId": "b3ce7830-c912-4c6b-d1bb-c5c766b2eddf"
   },
   "outputs": [
    {
     "data": {
      "image/png": "[encoded data removed]",
      "text/plain": [
       "<Figure size 432x288 with 1 Axes>"
      ]
     },
     "metadata": {
      "needs_background": "light"
     },
     "output_type": "display_data"
    },
    {
     "data": {
      "image/png": "[encoded data removed]",
      "text/plain": [
       "<Figure size 432x288 with 1 Axes>"
      ]
     },
     "metadata": {
      "needs_background": "light"
     },
     "output_type": "display_data"
    }
   ],
   "source": [
    "# Plotting and Visualising\n",
    "\n",
    "cifar10acc = cifar10plot.history[\"accuracy\"]\n",
    "cifar10val_acc = cifar10plot.history[\"val_accuracy\"]\n",
    "cifar10lss = cifar10plot.history[\"loss\"]\n",
    "cifar10val_lss = cifar10plot.history[\"val_loss\"]\n",
    "epochs_list = [1,2,3,4,5,6,7,8,9,10,11,12,13,14,15]\n",
    "\n",
    "plt.plot(epochs_list, cifar10acc, 'blue', label='Training Accuracy')\n",
    "plt.plot(epochs_list, cifar10val_acc, 'red', label='Validation Accuracy')\n",
    "plt.xlabel('Epochs')\n",
    "plt.ylabel('Accuracy')\n",
    "plt.title('Accuracy curve with Epochs')\n",
    "plt.legend()\n",
    "plt.show()\n",
    "\n",
    "#Loss Plot\n",
    "plt.plot(epochs_list, cifar10lss, 'green', label=\"Loss\")\n",
    "plt.plot(epochs_list, cifar10val_lss, 'purple', label=\"Validation Loss\")\n",
    "plt.xlabel('Epochs')\n",
    "plt.ylabel('Loss')\n",
    "plt.title('Loss curve with Epochs')\n",
    "plt.legend()\n",
    "plt.show()"
   ]
  },
  {
   "cell_type": "code",
   "execution_count": 37,
   "metadata": {
    "colab": {
     "base_uri": "https://localhost:8080/"
    },
    "id": "NBb51fBbLhBq",
    "outputId": "53b9351e-a380-40d3-fa11-a637a8631f26"
   },
   "outputs": [
    {
     "name": "stdout",
     "output_type": "stream",
     "text": [
      "313/313 [==============================] - 1s 3ms/step - loss: 1.6472 - accuracy: 0.5408\n"
     ]
    },
    {
     "data": {
      "text/plain": [
       "[1.6471798419952393, 0.5407999753952026]"
      ]
     },
     "execution_count": 37,
     "metadata": {},
     "output_type": "execute_result"
    }
   ],
   "source": [
    "cifar10model.evaluate(x_test,y_test)"
   ]
  },
  {
   "cell_type": "markdown",
   "metadata": {
    "id": "E97ruEh4hStB"
   },
   "source": [
    "Testing Accuracy = 54.08%"
   ]
  },
  {
   "cell_type": "code",
   "execution_count": 38,
   "metadata": {
    "colab": {
     "base_uri": "https://localhost:8080/"
    },
    "id": "GeUqVwRtLnTx",
    "outputId": "3c0a9c18-a6c5-4a66-f418-8e640d96b6e8"
   },
   "outputs": [
    {
     "data": {
      "text/plain": [
       "array([[2.2130237e-04, 2.3866865e-04, 1.9053711e-06, ..., 1.0278759e-07,\n",
       "        1.5760481e-04, 8.1760305e-07],\n",
       "       [4.7220397e-03, 1.6155913e-02, 6.4431491e-09, ..., 5.8567547e-11,\n",
       "        9.7886068e-01, 2.6122073e-04],\n",
       "       [7.6927519e-01, 1.2549697e-02, 3.0323949e-02, ..., 8.3729744e-02,\n",
       "        8.0878399e-02, 1.5318447e-02],\n",
       "       ...,\n",
       "       [1.1354546e-05, 1.6716098e-05, 1.6553296e-01, ..., 1.1803312e-01,\n",
       "        5.5671939e-05, 2.1662316e-05],\n",
       "       [4.9015526e-02, 8.1241578e-03, 4.6013158e-02, ..., 1.8128265e-02,\n",
       "        2.8996404e-02, 5.0991420e-03],\n",
       "       [1.5057267e-05, 2.7282402e-07, 1.7705288e-03, ..., 9.8410058e-01,\n",
       "        5.4744345e-07, 1.2548949e-06]], dtype=float32)"
      ]
     },
     "execution_count": 38,
     "metadata": {},
     "output_type": "execute_result"
    }
   ],
   "source": [
    "y_pred_cifar10 = cifar10model.predict(x_test)\n",
    "y_pred_cifar10"
   ]
  },
  {
   "cell_type": "markdown",
   "metadata": {
    "id": "ZdGTto3vMQWp"
   },
   "source": [
    "**On CIFAR-10 dataset**\n",
    "\n",
    "CNN Model gives test accuracy (54.08%)\n",
    "\n"
   ]
  }
 ],
 "metadata": {
  "accelerator": "GPU",
  "colab": {
   "collapsed_sections": [],
   "name": "Week3.ipynb",
   "provenance": []
  },
  "gpuClass": "standard",
  "kernelspec": {
   "display_name": "Python 3",
   "language": "python",
   "name": "python3"
  },
  "language_info": {
   "codemirror_mode": {
    "name": "ipython",
    "version": 3
   },
   "file_extension": ".py",
   "mimetype": "text/x-python",
   "name": "python",
   "nbconvert_exporter": "python",
   "pygments_lexer": "ipython3",
   "version": "3.8.3"
  }
 },
 "nbformat": 4,
 "nbformat_minor": 1
}
